
{
  "metadata": {
    "kernelspec": {
      "name": "python",
      "display_name": "Pyolite",
      "language": "python"
    },
    "language_info": {
      "codemirror_mode": {
        "name": "python",
        "version": 3
      },
      "file_extension": ".py",
      "mimetype": "text/x-python",
      "name": "python",
      "nbconvert_exporter": "python",
      "pygments_lexer": "ipython3",
      "version": "3.8"
    }
  },
  "nbformat_minor": 4,
  "nbformat": 4,
  "cells": [
    {
      "cell_type": "markdown",
      "source": "<center>\n    <img src=\"https://s3-api.us-geo.objectstorage.softlayer.net/cf-courses-data/CognitiveClass/Logos/organization_logo/organization_logo.png\" width=\"300\" alt=\"cognitiveclass.ai logo\"  />\n</center>\n",
      "metadata": {}
    },
    {
      "cell_type": "markdown",
      "source": "#### Add your code below following the instructions given in the course\n",
      "metadata": {}
    },
    {
      "cell_type": "markdown",
      "source": "### My Jupyter Notebook on IBM Watson Studio",
      "metadata": {}
    },
    {
      "cell_type": "markdown",
      "source": "**Gurbaaz Singh Gill**\n",
      "metadata": {}
    },
    {
      "cell_type": "markdown",
      "source": "Student",
      "metadata": {}
    },
    {
      "cell_type": "markdown",
      "source": "_I am interested in data science because I was always interested in working with data and want to explore more of my interests._",
      "metadata": {}
    },
    {
      "cell_type": "markdown",
      "source": "**The code below is a simple code which will show the addition and subtraction function-**",
      "metadata": {}
    },
    {
      "cell_type": "code",
      "source": "a=25;\nb=75;\nsum=a+b;\ndifference=a-b;\nprint(sum);\nprint(difference);",
      "metadata": {
        "trusted": true
      },
      "execution_count": 1,
      "outputs": [
        {
          "name": "stdout",
          "text": "100\n-50\n",
          "output_type": "stream"
        }
      ]
    }
  ]
}
